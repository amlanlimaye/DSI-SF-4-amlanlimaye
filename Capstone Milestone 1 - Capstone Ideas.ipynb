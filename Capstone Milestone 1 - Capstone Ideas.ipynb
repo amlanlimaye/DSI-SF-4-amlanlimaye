{
 "cells": [
  {
   "cell_type": "markdown",
   "metadata": {},
   "source": [
    "### Capstone Ideas - Amlan Limaye\n",
    "\n",
    "    1. Predicting 2017 Oscar Winners\n",
    "         - Description of goal: Predicting the winners of the 89th Academy Awards\n",
    "         - Reference Dataset(s):\n",
    "             1. https://www.kaggle.com/deepmatrix/imdb-5000-movie-dataset \n",
    "             2. http://grouplens.org/datasets/movielens/ \n",
    "             3. Oscar winners' data scraped from Wikipedia\n",
    "\n",
    "\n",
    "    2. Predicting 2017 Australian Open match results (Tennis)\n",
    "        - Description of goal: Predict the results of individual matches at the 2017 Australian Open\n",
    "        - Reference Dataset(s):\n",
    "            1. https://www.kaggle.com/jordangoblet/atp-tour-20002016\n",
    "\n",
    "\n",
    "    3. Soccer Betting Model\n",
    "        - Description of goal: Building a model to bet on soccer matches, measure its performance and earn $$$\n",
    "        - Reference Dataset(s):\n",
    "            1. https://www.kaggle.com/hugomathien/soccer"
   ]
  },
  {
   "cell_type": "code",
   "execution_count": null,
   "metadata": {
    "collapsed": true
   },
   "outputs": [],
   "source": []
  },
  {
   "cell_type": "code",
   "execution_count": null,
   "metadata": {
    "collapsed": true
   },
   "outputs": [],
   "source": []
  },
  {
   "cell_type": "code",
   "execution_count": null,
   "metadata": {
    "collapsed": true
   },
   "outputs": [],
   "source": []
  }
 ],
 "metadata": {
  "anaconda-cloud": {},
  "kernelspec": {
   "display_name": "Python [conda env:dsi]",
   "language": "python",
   "name": "conda-env-dsi-py"
  },
  "language_info": {
   "codemirror_mode": {
    "name": "ipython",
    "version": 2
   },
   "file_extension": ".py",
   "mimetype": "text/x-python",
   "name": "python",
   "nbconvert_exporter": "python",
   "pygments_lexer": "ipython2",
   "version": "2.7.12"
  }
 },
 "nbformat": 4,
 "nbformat_minor": 1
}
