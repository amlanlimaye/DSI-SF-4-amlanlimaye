{
 "cells": [
  {
   "cell_type": "markdown",
   "metadata": {},
   "source": [
    "# Iteration practice with movies\n",
    "\n",
    "In this lab you'll be using the provided imdb `movies` list below as your dataset. \n",
    "\n",
    "This lab is designed to practice iteration. The normal questions are more gentle, and the challenge questions are suitable for advanced/expert python or programming-experienced students. \n",
    "\n",
    "All the questions require writing functions and also use iteration to solve. You should print out a test of each function you write.\n",
    "\n",
    "---\n",
    "\n",
    "### 1. Load the provided list of movies dictionaries."
   ]
  },
  {
   "cell_type": "code",
   "execution_count": 13,
   "metadata": {
    "collapsed": false
   },
   "outputs": [
    {
     "name": "stdout",
     "output_type": "stream",
     "text": [
      "{'category': 'Thriller', 'imdb': 7.0, 'name': 'Usual Suspects'}\n",
      "15\n"
     ]
    }
   ],
   "source": [
    "# List of movies dictionaries:\n",
    "\n",
    "movies = [\n",
    "{\n",
    "\"name\": \"Usual Suspects\", \n",
    "\"imdb\": 7.0,\n",
    "\"category\": \"Thriller\"\n",
    "},\n",
    "{\n",
    "\"name\": \"Hitman\",\n",
    "\"imdb\": 6.3,\n",
    "\"category\": \"Action\"\n",
    "},\n",
    "{\n",
    "\"name\": \"Dark Knight\",\n",
    "\"imdb\": 9.0,\n",
    "\"category\": \"Adventure\"\n",
    "},\n",
    "{\n",
    "\"name\": \"The Help\",\n",
    "\"imdb\": 8.0,\n",
    "\"category\": \"Drama\"\n",
    "},\n",
    "{\n",
    "\"name\": \"The Choice\",\n",
    "\"imdb\": 6.2,\n",
    "\"category\": \"Romance\"\n",
    "},\n",
    "{\n",
    "\"name\": \"Colonia\",\n",
    "\"imdb\": 7.4,\n",
    "\"category\": \"Romance\"\n",
    "},\n",
    "{\n",
    "\"name\": \"Love\",\n",
    "\"imdb\": 6.0,\n",
    "\"category\": \"Romance\"\n",
    "},\n",
    "{\n",
    "\"name\": \"Bride Wars\",\n",
    "\"imdb\": 5.4,\n",
    "\"category\": \"Romance\"\n",
    "},\n",
    "{\n",
    "\"name\": \"AlphaJet\",\n",
    "\"imdb\": 3.2,\n",
    "\"category\": \"War\"\n",
    "},\n",
    "{\n",
    "\"name\": \"Ringing Crime\",\n",
    "\"imdb\": 4.0,\n",
    "\"category\": \"Crime\"\n",
    "},\n",
    "{\n",
    "\"name\": \"Joking muck\",\n",
    "\"imdb\": 7.2,\n",
    "\"category\": \"Comedy\"\n",
    "},\n",
    "{\n",
    "\"name\": \"What is the name\",\n",
    "\"imdb\": 9.2,\n",
    "\"category\": \"Suspense\"\n",
    "},\n",
    "{\n",
    "\"name\": \"Detective\",\n",
    "\"imdb\": 7.0,\n",
    "\"category\": \"Suspense\"\n",
    "},\n",
    "{\n",
    "\"name\": \"Exam\",\n",
    "\"imdb\": 4.2,\n",
    "\"category\": \"Thriller\"\n",
    "},\n",
    "{\n",
    "\"name\": \"We Two\",\n",
    "\"imdb\": 7.2,\n",
    "\"category\": \"Romance\"\n",
    "}\n",
    "]\n",
    "\n",
    "print(movies[0])\n",
    "print(len(movies))"
   ]
  },
  {
   "cell_type": "markdown",
   "metadata": {},
   "source": [
    "---\n",
    "\n",
    "### 2. Filtering data by IMDB score\n",
    "\n",
    "#### 2.1 \n",
    "\n",
    "Write a function that:\n",
    "\n",
    "1. Accepts a single movie dictionary from the `movies` list as an argument.\n",
    "2. Returns True if the IMDB score is above 5.5.\n",
    "\n",
    "#### 2.2 [Challenge] \n",
    "\n",
    "Write a function that:\n",
    "\n",
    "1. Accepts the movies list and a specified category.\n",
    "2. Returns True if the average score of the category is higher than the average score of all movies."
   ]
  },
  {
   "cell_type": "code",
   "execution_count": 4,
   "metadata": {
    "collapsed": false
   },
   "outputs": [
    {
     "name": "stdout",
     "output_type": "stream",
     "text": [
      "(True, None)\n"
     ]
    }
   ],
   "source": [
    "# Your code here.\n",
    "\n",
    "def score_above_5point5(movie_dict):\n",
    "    if movie_dict['imdb'] > 5.5:\n",
    "        return True\n",
    "    \n",
    "print(score_above_5point5(movies[0]), score_above_5point5(movies[7]))\n",
    "\n",
    "# Challenge\n",
    "\n",
    "def score_above_5point5"
   ]
  },
  {
   "cell_type": "markdown",
   "metadata": {},
   "source": [
    "---\n",
    "\n",
    "### 3. Creating subsets by numeric condition\n",
    "\n",
    "#### 3.1\n",
    "\n",
    "Write a function that:\n",
    "\n",
    "1. Accepts the list of movies and a specified imdb score.\n",
    "2. Returns the sublist of movies that have a score greater than the specified score.\n",
    "\n",
    "#### 3.2 [Expert] \n",
    "\n",
    "Write a function that:\n",
    "\n",
    "1. Accepts the movies list as an argument.\n",
    "2. Returns the movies list sorted first by category and then by movie according to average score and individual score, respectively."
   ]
  },
  {
   "cell_type": "code",
   "execution_count": 21,
   "metadata": {
    "collapsed": false
   },
   "outputs": [
    {
     "data": {
      "text/plain": [
       "['category', 'imdb', 'name']"
      ]
     },
     "execution_count": 21,
     "metadata": {},
     "output_type": "execute_result"
    }
   ],
   "source": [
    "movies[0].keys()\n",
    "\n",
    "# temp = []\n",
    "\n",
    "# for i in range(len(movies)):\n",
    "#         for key in movies[i].keys():\n",
    "#             temp[i][key] = movies[i][key]\n",
    "#             #             results_sublist[i] = movie_list[i]\n"
   ]
  },
  {
   "cell_type": "code",
   "execution_count": 24,
   "metadata": {
    "collapsed": false
   },
   "outputs": [
    {
     "data": {
      "text/plain": [
       "[{'category': 'Adventure', 'imdb': 9.0, 'name': 'Dark Knight'},\n",
       " {'category': 'Adventure', 'imdb': 9.0, 'name': 'Dark Knight'},\n",
       " {'category': 'Adventure', 'imdb': 9.0, 'name': 'Dark Knight'},\n",
       " {'category': 'Drama', 'imdb': 8.0, 'name': 'The Help'},\n",
       " {'category': 'Drama', 'imdb': 8.0, 'name': 'The Help'},\n",
       " {'category': 'Drama', 'imdb': 8.0, 'name': 'The Help'},\n",
       " {'category': 'Romance', 'imdb': 7.4, 'name': 'Colonia'},\n",
       " {'category': 'Romance', 'imdb': 7.4, 'name': 'Colonia'},\n",
       " {'category': 'Romance', 'imdb': 7.4, 'name': 'Colonia'},\n",
       " {'category': 'Comedy', 'imdb': 7.2, 'name': 'Joking muck'},\n",
       " {'category': 'Comedy', 'imdb': 7.2, 'name': 'Joking muck'},\n",
       " {'category': 'Comedy', 'imdb': 7.2, 'name': 'Joking muck'},\n",
       " {'category': 'Suspense', 'imdb': 9.2, 'name': 'What is the name'},\n",
       " {'category': 'Suspense', 'imdb': 9.2, 'name': 'What is the name'},\n",
       " {'category': 'Suspense', 'imdb': 9.2, 'name': 'What is the name'},\n",
       " {'category': 'Romance', 'imdb': 7.2, 'name': 'We Two'},\n",
       " {'category': 'Romance', 'imdb': 7.2, 'name': 'We Two'},\n",
       " {'category': 'Romance', 'imdb': 7.2, 'name': 'We Two'}]"
      ]
     },
     "execution_count": 24,
     "metadata": {},
     "output_type": "execute_result"
    }
   ],
   "source": [
    "# Your code here.\n",
    "\n",
    "def movies_rated_higher_than(movie_list, imdb_score):\n",
    "    results_sublist = []\n",
    "    for i in range(len(movie_list)):\n",
    "        if movie_list[i]['imdb'] > imdb_score:\n",
    "            for key in movie_list[i].keys():\n",
    "                results_sublist.append(movie_list[i].copy())    \n",
    "    return results_sublist\n",
    "            \n",
    "movies_rated_higher_than(movies, 7.0)\n"
   ]
  },
  {
   "cell_type": "markdown",
   "metadata": {},
   "source": [
    "---\n",
    "\n",
    "### 4. Creating subsets by string condition\n",
    "\n",
    "#### 4.1\n",
    "\n",
    "Write a function that:\n",
    "\n",
    "1. Accepts the movies list and a category name.\n",
    "2. Returns the movie names within that category (case-insensitive!)\n",
    "3. If the category is not in the data, print a message that it does not exist and return None.\n",
    "\n",
    "Recall that to convert a string to lowercase, you can use:\n",
    "\n",
    "```python\n",
    "mystring = 'Dumb and Dumber'\n",
    "lowercase_mystring = mystring.lower()\n",
    "print lowercase_mystring\n",
    "'dumb and dumber'\n",
    "```\n",
    "\n",
    "#### 4.2 [Challenge]\n",
    "\n",
    "Write a function that:\n",
    "\n",
    "1. Accepts the movies list and a \"search string\".\n",
    "2. Returns a dictionary with keys `'category'` and `'title'` whose values are lists of categories that contain the search string and titles that contain the search string, respectively (case-insensitive!)"
   ]
  },
  {
   "cell_type": "code",
   "execution_count": 26,
   "metadata": {
    "collapsed": false
   },
   "outputs": [
    {
     "name": "stdout",
     "output_type": "stream",
     "text": [
      "[{'category': 'Thriller', 'imdb': 7.0, 'name': 'Usual Suspects'}, {'category': 'Thriller', 'imdb': 4.2, 'name': 'Exam'}]\n",
      "[{'category': 'Adventure', 'imdb': 9.0, 'name': 'Dark Knight'}]\n",
      "Category does not exist\n",
      "None\n"
     ]
    }
   ],
   "source": [
    "# Your code here.\n",
    "\n",
    "def movies_within_category(movie_list, category_name):\n",
    "    results_sublist = []\n",
    "    for movie in movie_list:\n",
    "        if movie['category'].lower() == category_name.lower():\n",
    "            results_sublist.append(movie.copy())\n",
    "    if len(results_sublist) == 0:\n",
    "        print('Category does not exist')\n",
    "        return None\n",
    "    else:\n",
    "        return results_sublist\n",
    "    \n",
    "print movies_within_category(movies, 'thriller')\n",
    "print movies_within_category(movies, 'adventure')\n",
    "print movies_within_category(movies, 'amlan')"
   ]
  },
  {
   "cell_type": "markdown",
   "metadata": {},
   "source": [
    "---\n",
    "\n",
    "### Multiple conditions\n",
    "\n",
    "#### 5.1\n",
    "\n",
    "Write a function that:\n",
    "\n",
    "1. Accepts the movies list and a \"search criteria\" variable.\n",
    "2. If the criteria variable is numeric, return a list of movie titles with a score greater than or equal to the criteria.\n",
    "3. If the criteria variable is a string, return a list of movie titles that match that category (case-insensitive!). If there is no match, return an empty list and print an informative message.\n",
    "\n",
    "#### 5.2 [Expert]\n",
    "\n",
    "Write a function that:\n",
    "\n",
    "1. Accepts the movies list and a string search criteria variable.\n",
    "2. The search criteria variable can contain within it:\n",
    "  - Boolean operations: `'AND'`, `'OR'`, and `'NOT'` (can have/be lowercase as well, I just capitalized for clarity).\n",
    "  - Search criteria specified with syntax `score=...`, `category=...`, and/or `title=...`, where the `...` indicates what to look for.\n",
    "    - If `score` is present, it means scores greater than or equal to the value.\n",
    "    - For `category` and `title`, the string indicates that the category or title must _contain_ the search string (case-insensitive).\n",
    "3. Return the matches for the search criteria specified."
   ]
  },
  {
   "cell_type": "code",
   "execution_count": 39,
   "metadata": {
    "collapsed": false
   },
   "outputs": [
    {
     "data": {
      "text/plain": [
       "float"
      ]
     },
     "execution_count": 39,
     "metadata": {},
     "output_type": "execute_result"
    }
   ],
   "source": [
    "def movies_criteria(movie_list, search_criteria=)"
   ]
  },
  {
   "cell_type": "code",
   "execution_count": 46,
   "metadata": {
    "collapsed": false
   },
   "outputs": [
    {
     "name": "stdout",
     "output_type": "stream",
     "text": [
      "Category does not exist\n"
     ]
    },
    {
     "data": {
      "text/plain": [
       "[]"
      ]
     },
     "execution_count": 46,
     "metadata": {},
     "output_type": "execute_result"
    }
   ],
   "source": [
    "# Your code here.\n",
    "\n",
    "def movies_criteria(movie_list, search_criteria):\n",
    "    if type(search_criteria) in [int, float]:\n",
    "        results_sublist = []\n",
    "        for i in range(len(movie_list)):\n",
    "            if movie_list[i]['imdb'] >= search_criteria:\n",
    "                for key in movie_list[i].keys():\n",
    "                    results_sublist.append(movie_list[i].copy())    \n",
    "        return results_sublist\n",
    "    elif type(search_criteria) == str:\n",
    "        results_sublist = []\n",
    "        for movie in movie_list:\n",
    "            if movie['category'].lower() == search_criteria.lower():\n",
    "                results_sublist.append(movie.copy())\n",
    "        if len(results_sublist) == 0:\n",
    "            print('Category does not exist')\n",
    "            return results_sublist\n",
    "        else:\n",
    "            return results_sublist\n",
    "    else:\n",
    "        return None\n",
    "\n",
    "movies_criteria(movies, 'score=7.3 AND category=thriller or ')\n",
    "# print movies_criteria(movies, 5.0)\n",
    "\n",
    "# print movies_criteria(movies, 'thriller')\n",
    "# print movies_criteria(movies, 'adventure')\n",
    "# print movies_criteria(movies, 'amlan')"
   ]
  },
  {
   "cell_type": "code",
   "execution_count": null,
   "metadata": {
    "collapsed": true
   },
   "outputs": [],
   "source": []
  }
 ],
 "metadata": {
  "anaconda-cloud": {},
  "kernelspec": {
   "display_name": "Python [default]",
   "language": "python",
   "name": "python2"
  },
  "language_info": {
   "codemirror_mode": {
    "name": "ipython",
    "version": 2
   },
   "file_extension": ".py",
   "mimetype": "text/x-python",
   "name": "python",
   "nbconvert_exporter": "python",
   "pygments_lexer": "ipython2",
   "version": "2.7.12"
  }
 },
 "nbformat": 4,
 "nbformat_minor": 0
}
